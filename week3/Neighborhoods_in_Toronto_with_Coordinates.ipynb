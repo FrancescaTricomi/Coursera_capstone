{
  "nbformat": 4,
  "nbformat_minor": 0,
  "metadata": {
    "kernelspec": {
      "display_name": "Python 3",
      "language": "python",
      "name": "python3"
    },
    "language_info": {
      "codemirror_mode": {
        "name": "ipython",
        "version": 3
      },
      "file_extension": ".py",
      "mimetype": "text/x-python",
      "name": "python",
      "nbconvert_exporter": "python",
      "pygments_lexer": "ipython3",
      "version": "3.6.9"
    },
    "colab": {
      "name": "Neighborhoods in Toronto with Coordinates.ipynb",
      "provenance": [],
      "collapsed_sections": []
    }
  },
  "cells": [
    {
      "cell_type": "code",
      "metadata": {
        "id": "lNeKJ0swjzKa",
        "colab_type": "code",
        "colab": {}
      },
      "source": [
        "import numpy as np\n",
        "import pandas as pd \n",
        "import requests \n",
        "from bs4 import BeautifulSoup \n"
      ],
      "execution_count": 0,
      "outputs": []
    },
    {
      "cell_type": "code",
      "metadata": {
        "id": "MNycp9DojzLE",
        "colab_type": "code",
        "outputId": "bd0fb5c8-4406-4e05-c254-134783df1188",
        "colab": {
          "base_uri": "https://localhost:8080/",
          "height": 36
        }
      },
      "source": [
        "#Web scraping\n",
        "URL = \"https://en.wikipedia.org/wiki/List_of_postal_codes_of_Canada:_M\"\n",
        "page = requests.get(URL) \n",
        "print(page)   \n",
        "soup = BeautifulSoup(page.content, 'html.parser') \n"
      ],
      "execution_count": 78,
      "outputs": [
        {
          "output_type": "stream",
          "text": [
            "<Response [200]>\n"
          ],
          "name": "stdout"
        }
      ]
    },
    {
      "cell_type": "markdown",
      "metadata": {
        "id": "6jK2YGDRrayH",
        "colab_type": "text"
      },
      "source": [
        "Read the table\n"
      ]
    },
    {
      "cell_type": "code",
      "metadata": {
        "id": "MufbBtz3rbIz",
        "colab_type": "code",
        "colab": {}
      },
      "source": [
        "#get the value from the table\n",
        "postalCodes = [];\n",
        "boroughs= [];\n",
        "neighborhoods = [];\n",
        "for row in soup.find('table',class_=\"wikitable\").find_all('tr'):\n",
        "   \n",
        "    x=row.find_all('td')\n",
        "    if len(x)!=0 :\n",
        "      if x[1].text!='Not assigned\\n':\n",
        "        \n",
        "        postalCodes.append(x[0].text)\n",
        "        boroughs.append(x[1].text)\n",
        "        neighborhoods.append(x[2].text)\n"
      ],
      "execution_count": 0,
      "outputs": []
    },
    {
      "cell_type": "code",
      "metadata": {
        "id": "GtIGaqYvva1r",
        "colab_type": "code",
        "colab": {}
      },
      "source": [
        "# define the dataframe \n",
        "neighbors = pd.DataFrame({'PostalCode':postalCodes, 'Borough':boroughs, 'Neighborhood':neighborhoods})\n",
        "#clean data\n",
        "neighbors = neighbors.replace({r'\\s+$': '', r'^\\s+': ''}, regex=True).replace(r'\\n',  ' ', regex=True)\n",
        "neighbors =neighbors.replace({r'\\s+$': '', r'^\\s+': ''}, regex=True).replace(r' / ',  ',', regex=True)"
      ],
      "execution_count": 0,
      "outputs": []
    },
    {
      "cell_type": "code",
      "metadata": {
        "id": "t-BXw30sxz0Z",
        "colab_type": "code",
        "colab": {
          "base_uri": "https://localhost:8080/",
          "height": 206
        },
        "outputId": "e377bc3a-0e5e-41a1-a868-cce33d792a85"
      },
      "source": [
        "neighbors.head()"
      ],
      "execution_count": 76,
      "outputs": [
        {
          "output_type": "execute_result",
          "data": {
            "text/html": [
              "<div>\n",
              "<style scoped>\n",
              "    .dataframe tbody tr th:only-of-type {\n",
              "        vertical-align: middle;\n",
              "    }\n",
              "\n",
              "    .dataframe tbody tr th {\n",
              "        vertical-align: top;\n",
              "    }\n",
              "\n",
              "    .dataframe thead th {\n",
              "        text-align: right;\n",
              "    }\n",
              "</style>\n",
              "<table border=\"1\" class=\"dataframe\">\n",
              "  <thead>\n",
              "    <tr style=\"text-align: right;\">\n",
              "      <th></th>\n",
              "      <th>PostalCode</th>\n",
              "      <th>Borough</th>\n",
              "      <th>Neighborhood</th>\n",
              "    </tr>\n",
              "  </thead>\n",
              "  <tbody>\n",
              "    <tr>\n",
              "      <th>0</th>\n",
              "      <td>M3A</td>\n",
              "      <td>North York</td>\n",
              "      <td>Parkwoods</td>\n",
              "    </tr>\n",
              "    <tr>\n",
              "      <th>1</th>\n",
              "      <td>M4A</td>\n",
              "      <td>North York</td>\n",
              "      <td>Victoria Village</td>\n",
              "    </tr>\n",
              "    <tr>\n",
              "      <th>2</th>\n",
              "      <td>M5A</td>\n",
              "      <td>Downtown Toronto</td>\n",
              "      <td>Regent Park,Harbourfront</td>\n",
              "    </tr>\n",
              "    <tr>\n",
              "      <th>3</th>\n",
              "      <td>M6A</td>\n",
              "      <td>North York</td>\n",
              "      <td>Lawrence Manor,Lawrence Heights</td>\n",
              "    </tr>\n",
              "    <tr>\n",
              "      <th>4</th>\n",
              "      <td>M7A</td>\n",
              "      <td>Downtown Toronto</td>\n",
              "      <td>Queen's Park,Ontario Provincial Government</td>\n",
              "    </tr>\n",
              "  </tbody>\n",
              "</table>\n",
              "</div>"
            ],
            "text/plain": [
              "  PostalCode           Borough                                Neighborhood\n",
              "0        M3A        North York                                   Parkwoods\n",
              "1        M4A        North York                            Victoria Village\n",
              "2        M5A  Downtown Toronto                    Regent Park,Harbourfront\n",
              "3        M6A        North York             Lawrence Manor,Lawrence Heights\n",
              "4        M7A  Downtown Toronto  Queen's Park,Ontario Provincial Government"
            ]
          },
          "metadata": {
            "tags": []
          },
          "execution_count": 76
        }
      ]
    },
    {
      "cell_type": "code",
      "metadata": {
        "id": "daIsAS2ljzM8",
        "colab_type": "code",
        "outputId": "937ca19e-def0-4ed3-c0ce-d7f1760cab0b",
        "colab": {
          "base_uri": "https://localhost:8080/",
          "height": 36
        }
      },
      "source": [
        "neighbors.shape"
      ],
      "execution_count": 77,
      "outputs": [
        {
          "output_type": "execute_result",
          "data": {
            "text/plain": [
              "(103, 3)"
            ]
          },
          "metadata": {
            "tags": []
          },
          "execution_count": 77
        }
      ]
    },
    {
      "cell_type": "markdown",
      "metadata": {
        "id": "bIjVRP_f2cqJ",
        "colab_type": "text"
      },
      "source": [
        "## **Get** **Cordinates**"
      ]
    },
    {
      "cell_type": "code",
      "metadata": {
        "id": "HFO-dX5B0VYn",
        "colab_type": "code",
        "colab": {
          "base_uri": "https://localhost:8080/",
          "height": 315
        },
        "outputId": "147873a4-a86e-4917-b885-f9d45fdf4d4f"
      },
      "source": [
        "import sys\n",
        "!{sys.executable} -m pip install geocoder"
      ],
      "execution_count": 79,
      "outputs": [
        {
          "output_type": "stream",
          "text": [
            "Collecting geocoder\n",
            "\u001b[?25l  Downloading https://files.pythonhosted.org/packages/4f/6b/13166c909ad2f2d76b929a4227c952630ebaf0d729f6317eb09cbceccbab/geocoder-1.38.1-py2.py3-none-any.whl (98kB)\n",
            "\r\u001b[K     |███▎                            | 10kB 18.6MB/s eta 0:00:01\r\u001b[K     |██████▋                         | 20kB 2.2MB/s eta 0:00:01\r\u001b[K     |██████████                      | 30kB 3.1MB/s eta 0:00:01\r\u001b[K     |█████████████▎                  | 40kB 2.1MB/s eta 0:00:01\r\u001b[K     |████████████████▋               | 51kB 2.5MB/s eta 0:00:01\r\u001b[K     |████████████████████            | 61kB 3.0MB/s eta 0:00:01\r\u001b[K     |███████████████████████▎        | 71kB 3.5MB/s eta 0:00:01\r\u001b[K     |██████████████████████████▋     | 81kB 4.0MB/s eta 0:00:01\r\u001b[K     |██████████████████████████████  | 92kB 4.4MB/s eta 0:00:01\r\u001b[K     |████████████████████████████████| 102kB 3.5MB/s \n",
            "\u001b[?25hCollecting ratelim\n",
            "  Downloading https://files.pythonhosted.org/packages/f2/98/7e6d147fd16a10a5f821db6e25f192265d6ecca3d82957a4fdd592cad49c/ratelim-0.1.6-py2.py3-none-any.whl\n",
            "Requirement already satisfied: requests in /usr/local/lib/python3.6/dist-packages (from geocoder) (2.21.0)\n",
            "Requirement already satisfied: six in /usr/local/lib/python3.6/dist-packages (from geocoder) (1.12.0)\n",
            "Requirement already satisfied: future in /usr/local/lib/python3.6/dist-packages (from geocoder) (0.16.0)\n",
            "Requirement already satisfied: click in /usr/local/lib/python3.6/dist-packages (from geocoder) (7.1.1)\n",
            "Requirement already satisfied: decorator in /usr/local/lib/python3.6/dist-packages (from ratelim->geocoder) (4.4.2)\n",
            "Requirement already satisfied: certifi>=2017.4.17 in /usr/local/lib/python3.6/dist-packages (from requests->geocoder) (2019.11.28)\n",
            "Requirement already satisfied: chardet<3.1.0,>=3.0.2 in /usr/local/lib/python3.6/dist-packages (from requests->geocoder) (3.0.4)\n",
            "Requirement already satisfied: idna<2.9,>=2.5 in /usr/local/lib/python3.6/dist-packages (from requests->geocoder) (2.8)\n",
            "Requirement already satisfied: urllib3<1.25,>=1.21.1 in /usr/local/lib/python3.6/dist-packages (from requests->geocoder) (1.24.3)\n",
            "Installing collected packages: ratelim, geocoder\n",
            "Successfully installed geocoder-1.38.1 ratelim-0.1.6\n"
          ],
          "name": "stdout"
        }
      ]
    },
    {
      "cell_type": "code",
      "metadata": {
        "id": "Bj7IB1ma2iYN",
        "colab_type": "code",
        "colab": {}
      },
      "source": [
        "import geocoder \n",
        "\n",
        "import requests"
      ],
      "execution_count": 0,
      "outputs": []
    },
    {
      "cell_type": "code",
      "metadata": {
        "id": "pXTa7lOR2qvd",
        "colab_type": "code",
        "colab": {}
      },
      "source": [
        "lat_lng_coords = None\n",
        "latitude=[];\n",
        "longitude=[];\n",
        "for code in range(0, len(neighbors['PostalCode'])):\n",
        "      \n",
        "    g = geocoder.arcgis('{}, Toronto, Ontario'.format(code))\n",
        "    lat_lng_coords = g.latlng\n",
        "    latitude.append(lat_lng_coords[0])\n",
        "    longitude.append(lat_lng_coords[1])"
      ],
      "execution_count": 0,
      "outputs": []
    },
    {
      "cell_type": "code",
      "metadata": {
        "id": "j5o1G2lw4VFf",
        "colab_type": "code",
        "colab": {
          "base_uri": "https://localhost:8080/",
          "height": 206
        },
        "outputId": "d6ce0fca-541f-4282-b4ac-459d0a068ea5"
      },
      "source": [
        "neighbors['Latitude']=latitude\n",
        "neighbors['Longitude']=longitude\n",
        "neighbors.head()"
      ],
      "execution_count": 85,
      "outputs": [
        {
          "output_type": "execute_result",
          "data": {
            "text/html": [
              "<div>\n",
              "<style scoped>\n",
              "    .dataframe tbody tr th:only-of-type {\n",
              "        vertical-align: middle;\n",
              "    }\n",
              "\n",
              "    .dataframe tbody tr th {\n",
              "        vertical-align: top;\n",
              "    }\n",
              "\n",
              "    .dataframe thead th {\n",
              "        text-align: right;\n",
              "    }\n",
              "</style>\n",
              "<table border=\"1\" class=\"dataframe\">\n",
              "  <thead>\n",
              "    <tr style=\"text-align: right;\">\n",
              "      <th></th>\n",
              "      <th>PostalCode</th>\n",
              "      <th>Borough</th>\n",
              "      <th>Neighborhood</th>\n",
              "      <th>Latitude</th>\n",
              "      <th>Longitude</th>\n",
              "    </tr>\n",
              "  </thead>\n",
              "  <tbody>\n",
              "    <tr>\n",
              "      <th>0</th>\n",
              "      <td>M3A</td>\n",
              "      <td>North York</td>\n",
              "      <td>Parkwoods</td>\n",
              "      <td>43.648690</td>\n",
              "      <td>-79.385440</td>\n",
              "    </tr>\n",
              "    <tr>\n",
              "      <th>1</th>\n",
              "      <td>M4A</td>\n",
              "      <td>North York</td>\n",
              "      <td>Victoria Village</td>\n",
              "      <td>43.657993</td>\n",
              "      <td>-79.353938</td>\n",
              "    </tr>\n",
              "    <tr>\n",
              "      <th>2</th>\n",
              "      <td>M5A</td>\n",
              "      <td>Downtown Toronto</td>\n",
              "      <td>Regent Park,Harbourfront</td>\n",
              "      <td>43.638500</td>\n",
              "      <td>-79.422230</td>\n",
              "    </tr>\n",
              "    <tr>\n",
              "      <th>3</th>\n",
              "      <td>M6A</td>\n",
              "      <td>North York</td>\n",
              "      <td>Lawrence Manor,Lawrence Heights</td>\n",
              "      <td>43.683396</td>\n",
              "      <td>-79.362194</td>\n",
              "    </tr>\n",
              "    <tr>\n",
              "      <th>4</th>\n",
              "      <td>M7A</td>\n",
              "      <td>Downtown Toronto</td>\n",
              "      <td>Queen's Park,Ontario Provincial Government</td>\n",
              "      <td>43.643580</td>\n",
              "      <td>-79.395720</td>\n",
              "    </tr>\n",
              "  </tbody>\n",
              "</table>\n",
              "</div>"
            ],
            "text/plain": [
              "  PostalCode           Borough  ...   Latitude  Longitude\n",
              "0        M3A        North York  ...  43.648690 -79.385440\n",
              "1        M4A        North York  ...  43.657993 -79.353938\n",
              "2        M5A  Downtown Toronto  ...  43.638500 -79.422230\n",
              "3        M6A        North York  ...  43.683396 -79.362194\n",
              "4        M7A  Downtown Toronto  ...  43.643580 -79.395720\n",
              "\n",
              "[5 rows x 5 columns]"
            ]
          },
          "metadata": {
            "tags": []
          },
          "execution_count": 85
        }
      ]
    },
    {
      "cell_type": "code",
      "metadata": {
        "id": "KW_L0c0V5wPK",
        "colab_type": "code",
        "colab": {
          "base_uri": "https://localhost:8080/",
          "height": 677
        },
        "outputId": "a1e32191-54c3-4524-f9f5-e54662764747"
      },
      "source": [
        "neighbors.head(20)"
      ],
      "execution_count": 86,
      "outputs": [
        {
          "output_type": "execute_result",
          "data": {
            "text/html": [
              "<div>\n",
              "<style scoped>\n",
              "    .dataframe tbody tr th:only-of-type {\n",
              "        vertical-align: middle;\n",
              "    }\n",
              "\n",
              "    .dataframe tbody tr th {\n",
              "        vertical-align: top;\n",
              "    }\n",
              "\n",
              "    .dataframe thead th {\n",
              "        text-align: right;\n",
              "    }\n",
              "</style>\n",
              "<table border=\"1\" class=\"dataframe\">\n",
              "  <thead>\n",
              "    <tr style=\"text-align: right;\">\n",
              "      <th></th>\n",
              "      <th>PostalCode</th>\n",
              "      <th>Borough</th>\n",
              "      <th>Neighborhood</th>\n",
              "      <th>Latitude</th>\n",
              "      <th>Longitude</th>\n",
              "    </tr>\n",
              "  </thead>\n",
              "  <tbody>\n",
              "    <tr>\n",
              "      <th>0</th>\n",
              "      <td>M3A</td>\n",
              "      <td>North York</td>\n",
              "      <td>Parkwoods</td>\n",
              "      <td>43.648690</td>\n",
              "      <td>-79.385440</td>\n",
              "    </tr>\n",
              "    <tr>\n",
              "      <th>1</th>\n",
              "      <td>M4A</td>\n",
              "      <td>North York</td>\n",
              "      <td>Victoria Village</td>\n",
              "      <td>43.657993</td>\n",
              "      <td>-79.353938</td>\n",
              "    </tr>\n",
              "    <tr>\n",
              "      <th>2</th>\n",
              "      <td>M5A</td>\n",
              "      <td>Downtown Toronto</td>\n",
              "      <td>Regent Park,Harbourfront</td>\n",
              "      <td>43.638500</td>\n",
              "      <td>-79.422230</td>\n",
              "    </tr>\n",
              "    <tr>\n",
              "      <th>3</th>\n",
              "      <td>M6A</td>\n",
              "      <td>North York</td>\n",
              "      <td>Lawrence Manor,Lawrence Heights</td>\n",
              "      <td>43.683396</td>\n",
              "      <td>-79.362194</td>\n",
              "    </tr>\n",
              "    <tr>\n",
              "      <th>4</th>\n",
              "      <td>M7A</td>\n",
              "      <td>Downtown Toronto</td>\n",
              "      <td>Queen's Park,Ontario Provincial Government</td>\n",
              "      <td>43.643580</td>\n",
              "      <td>-79.395720</td>\n",
              "    </tr>\n",
              "    <tr>\n",
              "      <th>5</th>\n",
              "      <td>M9A</td>\n",
              "      <td>Etobicoke</td>\n",
              "      <td>Islington Avenue</td>\n",
              "      <td>44.005423</td>\n",
              "      <td>-77.888860</td>\n",
              "    </tr>\n",
              "    <tr>\n",
              "      <th>6</th>\n",
              "      <td>M1B</td>\n",
              "      <td>Scarborough</td>\n",
              "      <td>Malvern,Rouge</td>\n",
              "      <td>43.776920</td>\n",
              "      <td>-79.345090</td>\n",
              "    </tr>\n",
              "    <tr>\n",
              "      <th>7</th>\n",
              "      <td>M3B</td>\n",
              "      <td>North York</td>\n",
              "      <td>Don Mills</td>\n",
              "      <td>43.581744</td>\n",
              "      <td>-81.519861</td>\n",
              "    </tr>\n",
              "    <tr>\n",
              "      <th>8</th>\n",
              "      <td>M4B</td>\n",
              "      <td>East York</td>\n",
              "      <td>Parkview Hill,Woodbine Gardens</td>\n",
              "      <td>43.543637</td>\n",
              "      <td>-80.238396</td>\n",
              "    </tr>\n",
              "    <tr>\n",
              "      <th>9</th>\n",
              "      <td>M5B</td>\n",
              "      <td>Downtown Toronto</td>\n",
              "      <td>Garden District, Ryerson</td>\n",
              "      <td>44.005650</td>\n",
              "      <td>-77.888997</td>\n",
              "    </tr>\n",
              "    <tr>\n",
              "      <th>10</th>\n",
              "      <td>M6B</td>\n",
              "      <td>North York</td>\n",
              "      <td>Glencairn</td>\n",
              "      <td>43.724488</td>\n",
              "      <td>-79.331303</td>\n",
              "    </tr>\n",
              "    <tr>\n",
              "      <th>11</th>\n",
              "      <td>M9B</td>\n",
              "      <td>Etobicoke</td>\n",
              "      <td>West Deane Park,Princess Gardens,Martin Grove,...</td>\n",
              "      <td>43.728021</td>\n",
              "      <td>-79.330857</td>\n",
              "    </tr>\n",
              "    <tr>\n",
              "      <th>12</th>\n",
              "      <td>M1C</td>\n",
              "      <td>Scarborough</td>\n",
              "      <td>Rouge Hill,Port Union,Highland Creek</td>\n",
              "      <td>43.696350</td>\n",
              "      <td>-79.370190</td>\n",
              "    </tr>\n",
              "    <tr>\n",
              "      <th>13</th>\n",
              "      <td>M3C</td>\n",
              "      <td>North York</td>\n",
              "      <td>Don Mills</td>\n",
              "      <td>43.689930</td>\n",
              "      <td>-79.324100</td>\n",
              "    </tr>\n",
              "    <tr>\n",
              "      <th>14</th>\n",
              "      <td>M4C</td>\n",
              "      <td>East York</td>\n",
              "      <td>Woodbine Heights</td>\n",
              "      <td>43.757164</td>\n",
              "      <td>-79.336430</td>\n",
              "    </tr>\n",
              "    <tr>\n",
              "      <th>15</th>\n",
              "      <td>M5C</td>\n",
              "      <td>Downtown Toronto</td>\n",
              "      <td>St. James Town</td>\n",
              "      <td>43.722200</td>\n",
              "      <td>-79.373490</td>\n",
              "    </tr>\n",
              "    <tr>\n",
              "      <th>16</th>\n",
              "      <td>M6C</td>\n",
              "      <td>York</td>\n",
              "      <td>Humewood-Cedarvale</td>\n",
              "      <td>44.454229</td>\n",
              "      <td>-79.496802</td>\n",
              "    </tr>\n",
              "    <tr>\n",
              "      <th>17</th>\n",
              "      <td>M9C</td>\n",
              "      <td>Etobicoke</td>\n",
              "      <td>Eringate,Bloordale Gardens,Old Burnhamthorpe,M...</td>\n",
              "      <td>43.768655</td>\n",
              "      <td>-79.338865</td>\n",
              "    </tr>\n",
              "    <tr>\n",
              "      <th>18</th>\n",
              "      <td>M1E</td>\n",
              "      <td>Scarborough</td>\n",
              "      <td>Guildwood,Morningside,West Hill</td>\n",
              "      <td>43.777081</td>\n",
              "      <td>-79.339218</td>\n",
              "    </tr>\n",
              "    <tr>\n",
              "      <th>19</th>\n",
              "      <td>M4E</td>\n",
              "      <td>East Toronto</td>\n",
              "      <td>The Beaches</td>\n",
              "      <td>44.454659</td>\n",
              "      <td>-79.497105</td>\n",
              "    </tr>\n",
              "  </tbody>\n",
              "</table>\n",
              "</div>"
            ],
            "text/plain": [
              "   PostalCode           Borough  ...   Latitude  Longitude\n",
              "0         M3A        North York  ...  43.648690 -79.385440\n",
              "1         M4A        North York  ...  43.657993 -79.353938\n",
              "2         M5A  Downtown Toronto  ...  43.638500 -79.422230\n",
              "3         M6A        North York  ...  43.683396 -79.362194\n",
              "4         M7A  Downtown Toronto  ...  43.643580 -79.395720\n",
              "5         M9A         Etobicoke  ...  44.005423 -77.888860\n",
              "6         M1B       Scarborough  ...  43.776920 -79.345090\n",
              "7         M3B        North York  ...  43.581744 -81.519861\n",
              "8         M4B         East York  ...  43.543637 -80.238396\n",
              "9         M5B  Downtown Toronto  ...  44.005650 -77.888997\n",
              "10        M6B        North York  ...  43.724488 -79.331303\n",
              "11        M9B         Etobicoke  ...  43.728021 -79.330857\n",
              "12        M1C       Scarborough  ...  43.696350 -79.370190\n",
              "13        M3C        North York  ...  43.689930 -79.324100\n",
              "14        M4C         East York  ...  43.757164 -79.336430\n",
              "15        M5C  Downtown Toronto  ...  43.722200 -79.373490\n",
              "16        M6C              York  ...  44.454229 -79.496802\n",
              "17        M9C         Etobicoke  ...  43.768655 -79.338865\n",
              "18        M1E       Scarborough  ...  43.777081 -79.339218\n",
              "19        M4E      East Toronto  ...  44.454659 -79.497105\n",
              "\n",
              "[20 rows x 5 columns]"
            ]
          },
          "metadata": {
            "tags": []
          },
          "execution_count": 86
        }
      ]
    },
    {
      "cell_type": "code",
      "metadata": {
        "id": "3R6Fo6bv52Ch",
        "colab_type": "code",
        "colab": {}
      },
      "source": [
        ""
      ],
      "execution_count": 0,
      "outputs": []
    }
  ]
}