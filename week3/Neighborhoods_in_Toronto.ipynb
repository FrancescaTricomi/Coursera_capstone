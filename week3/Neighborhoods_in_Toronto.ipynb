{
  "nbformat": 4,
  "nbformat_minor": 0,
  "metadata": {
    "kernelspec": {
      "display_name": "Python 3",
      "language": "python",
      "name": "python3"
    },
    "language_info": {
      "codemirror_mode": {
        "name": "ipython",
        "version": 3
      },
      "file_extension": ".py",
      "mimetype": "text/x-python",
      "name": "python",
      "nbconvert_exporter": "python",
      "pygments_lexer": "ipython3",
      "version": "3.6.9"
    },
    "colab": {
      "name": "Segmenting and Clustering Neighborhoods in Toronto-Copy1.ipynb",
      "provenance": [],
      "collapsed_sections": []
    }
  },
  "cells": [
    {
      "cell_type": "code",
      "metadata": {
        "id": "lNeKJ0swjzKa",
        "colab_type": "code",
        "colab": {}
      },
      "source": [
        "import numpy as np\n",
        "import pandas as pd \n",
        "import requests \n",
        "from bs4 import BeautifulSoup \n"
      ],
      "execution_count": 0,
      "outputs": []
    },
    {
      "cell_type": "code",
      "metadata": {
        "id": "MNycp9DojzLE",
        "colab_type": "code",
        "outputId": "bd0fb5c8-4406-4e05-c254-134783df1188",
        "colab": {
          "base_uri": "https://localhost:8080/",
          "height": 36
        }
      },
      "source": [
        "#Web scraping\n",
        "URL = \"https://en.wikipedia.org/wiki/List_of_postal_codes_of_Canada:_M\"\n",
        "page = requests.get(URL) \n",
        "print(page)   \n",
        "soup = BeautifulSoup(page.content, 'html.parser') \n"
      ],
      "execution_count": 78,
      "outputs": [
        {
          "output_type": "stream",
          "text": [
            "<Response [200]>\n"
          ],
          "name": "stdout"
        }
      ]
    },
    {
      "cell_type": "markdown",
      "metadata": {
        "id": "6jK2YGDRrayH",
        "colab_type": "text"
      },
      "source": [
        "Read the table\n"
      ]
    },
    {
      "cell_type": "code",
      "metadata": {
        "id": "MufbBtz3rbIz",
        "colab_type": "code",
        "colab": {}
      },
      "source": [
        "#get the value from the table\n",
        "postalCodes = [];\n",
        "boroughs= [];\n",
        "neighborhoods = [];\n",
        "for row in soup.find('table',class_=\"wikitable\").find_all('tr'):\n",
        "   \n",
        "    x=row.find_all('td')\n",
        "    if len(x)!=0 :\n",
        "      if x[1].text!='Not assigned\\n':\n",
        "        \n",
        "        postalCodes.append(x[0].text)\n",
        "        boroughs.append(x[1].text)\n",
        "        neighborhoods.append(x[2].text)\n"
      ],
      "execution_count": 0,
      "outputs": []
    },
    {
      "cell_type": "code",
      "metadata": {
        "id": "GtIGaqYvva1r",
        "colab_type": "code",
        "colab": {}
      },
      "source": [
        "# define the dataframe \n",
        "neighbors = pd.DataFrame({'PostalCode':postalCodes, 'Borough':boroughs, 'Neighborhood':neighborhoods})\n",
        "#clean data\n",
        "neighbors = neighbors.replace({r'\\s+$': '', r'^\\s+': ''}, regex=True).replace(r'\\n',  ' ', regex=True)\n",
        "neighbors =neighbors.replace({r'\\s+$': '', r'^\\s+': ''}, regex=True).replace(r' / ',  ',', regex=True)"
      ],
      "execution_count": 0,
      "outputs": []
    },
    {
      "cell_type": "code",
      "metadata": {
        "id": "t-BXw30sxz0Z",
        "colab_type": "code",
        "colab": {
          "base_uri": "https://localhost:8080/",
          "height": 206
        },
        "outputId": "e377bc3a-0e5e-41a1-a868-cce33d792a85"
      },
      "source": [
        "neighbors.head()"
      ],
      "execution_count": 76,
      "outputs": [
        {
          "output_type": "execute_result",
          "data": {
            "text/html": [
              "<div>\n",
              "<style scoped>\n",
              "    .dataframe tbody tr th:only-of-type {\n",
              "        vertical-align: middle;\n",
              "    }\n",
              "\n",
              "    .dataframe tbody tr th {\n",
              "        vertical-align: top;\n",
              "    }\n",
              "\n",
              "    .dataframe thead th {\n",
              "        text-align: right;\n",
              "    }\n",
              "</style>\n",
              "<table border=\"1\" class=\"dataframe\">\n",
              "  <thead>\n",
              "    <tr style=\"text-align: right;\">\n",
              "      <th></th>\n",
              "      <th>PostalCode</th>\n",
              "      <th>Borough</th>\n",
              "      <th>Neighborhood</th>\n",
              "    </tr>\n",
              "  </thead>\n",
              "  <tbody>\n",
              "    <tr>\n",
              "      <th>0</th>\n",
              "      <td>M3A</td>\n",
              "      <td>North York</td>\n",
              "      <td>Parkwoods</td>\n",
              "    </tr>\n",
              "    <tr>\n",
              "      <th>1</th>\n",
              "      <td>M4A</td>\n",
              "      <td>North York</td>\n",
              "      <td>Victoria Village</td>\n",
              "    </tr>\n",
              "    <tr>\n",
              "      <th>2</th>\n",
              "      <td>M5A</td>\n",
              "      <td>Downtown Toronto</td>\n",
              "      <td>Regent Park,Harbourfront</td>\n",
              "    </tr>\n",
              "    <tr>\n",
              "      <th>3</th>\n",
              "      <td>M6A</td>\n",
              "      <td>North York</td>\n",
              "      <td>Lawrence Manor,Lawrence Heights</td>\n",
              "    </tr>\n",
              "    <tr>\n",
              "      <th>4</th>\n",
              "      <td>M7A</td>\n",
              "      <td>Downtown Toronto</td>\n",
              "      <td>Queen's Park,Ontario Provincial Government</td>\n",
              "    </tr>\n",
              "  </tbody>\n",
              "</table>\n",
              "</div>"
            ],
            "text/plain": [
              "  PostalCode           Borough                                Neighborhood\n",
              "0        M3A        North York                                   Parkwoods\n",
              "1        M4A        North York                            Victoria Village\n",
              "2        M5A  Downtown Toronto                    Regent Park,Harbourfront\n",
              "3        M6A        North York             Lawrence Manor,Lawrence Heights\n",
              "4        M7A  Downtown Toronto  Queen's Park,Ontario Provincial Government"
            ]
          },
          "metadata": {
            "tags": []
          },
          "execution_count": 76
        }
      ]
    },
    {
      "cell_type": "code",
      "metadata": {
        "id": "daIsAS2ljzM8",
        "colab_type": "code",
        "outputId": "937ca19e-def0-4ed3-c0ce-d7f1760cab0b",
        "colab": {
          "base_uri": "https://localhost:8080/",
          "height": 36
        }
      },
      "source": [
        "neighbors.shape"
      ],
      "execution_count": 77,
      "outputs": [
        {
          "output_type": "execute_result",
          "data": {
            "text/plain": [
              "(103, 3)"
            ]
          },
          "metadata": {
            "tags": []
          },
          "execution_count": 77
        }
      ]
    },
    {
      "cell_type": "code",
      "metadata": {
        "id": "HFO-dX5B0VYn",
        "colab_type": "code",
        "colab": {}
      },
      "source": [
        ""
      ],
      "execution_count": 0,
      "outputs": []
    }
  ]
}